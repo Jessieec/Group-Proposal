{
 "cells": [
  {
   "cell_type": "markdown",
   "id": "9a76a56e-63a1-421d-9c50-7ef580c899aa",
   "metadata": {},
   "source": [
    "Steps: \n",
    "1. Download dataset\n",
    "2. Choose table from dataset"
   ]
  }
 ],
 "metadata": {
  "kernelspec": {
   "display_name": "R",
   "language": "R",
   "name": "ir"
  },
  "language_info": {
   "codemirror_mode": "r",
   "file_extension": ".r",
   "mimetype": "text/x-r-source",
   "name": "R",
   "pygments_lexer": "r",
   "version": "4.3.1"
  }
 },
 "nbformat": 4,
 "nbformat_minor": 5
}
